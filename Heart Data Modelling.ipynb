{
 "cells": [
  {
   "cell_type": "code",
   "execution_count": 3,
   "id": "80a3ccd8-447f-4eba-832a-909ab28acc37",
   "metadata": {
    "executionInfo": {
     "elapsed": 316,
     "status": "ok",
     "timestamp": 1736926708586,
     "user": {
      "displayName": "Shehla Kerimova",
      "userId": "15650581135197908661"
     },
     "user_tz": 480
    },
    "id": "80a3ccd8-447f-4eba-832a-909ab28acc37"
   },
   "outputs": [],
   "source": [
    "import pandas as pd\n",
    "import numpy as np\n",
    "import matplotlib.pyplot as plt\n",
    "import seaborn as sns\n",
    "from sklearn.model_selection import train_test_split\n",
    "from sklearn.linear_model import LogisticRegression\n",
    "from sklearn.metrics import accuracy_score, precision_score, recall_score, f1_score\n",
    "\n",
    "import warnings\n",
    "warnings.filterwarnings(\"ignore\")"
   ]
  },
  {
   "cell_type": "code",
   "execution_count": 5,
   "id": "2081642f-8b1f-4f0d-99cf-92506204d73e",
   "metadata": {
    "colab": {
     "base_uri": "https://localhost:8080/",
     "height": 206
    },
    "executionInfo": {
     "elapsed": 8,
     "status": "ok",
     "timestamp": 1736926709731,
     "user": {
      "displayName": "Shehla Kerimova",
      "userId": "15650581135197908661"
     },
     "user_tz": 480
    },
    "id": "2081642f-8b1f-4f0d-99cf-92506204d73e",
    "outputId": "053e1072-1727-445e-bcbf-817542c939eb"
   },
   "outputs": [
    {
     "data": {
      "text/html": [
       "<div>\n",
       "<style scoped>\n",
       "    .dataframe tbody tr th:only-of-type {\n",
       "        vertical-align: middle;\n",
       "    }\n",
       "\n",
       "    .dataframe tbody tr th {\n",
       "        vertical-align: top;\n",
       "    }\n",
       "\n",
       "    .dataframe thead th {\n",
       "        text-align: right;\n",
       "    }\n",
       "</style>\n",
       "<table border=\"1\" class=\"dataframe\">\n",
       "  <thead>\n",
       "    <tr style=\"text-align: right;\">\n",
       "      <th></th>\n",
       "      <th>age</th>\n",
       "      <th>sex</th>\n",
       "      <th>cp</th>\n",
       "      <th>trestbps</th>\n",
       "      <th>chol</th>\n",
       "      <th>fbs</th>\n",
       "      <th>restecg</th>\n",
       "      <th>thalach</th>\n",
       "      <th>exang</th>\n",
       "      <th>oldpeak</th>\n",
       "      <th>slope</th>\n",
       "      <th>ca</th>\n",
       "      <th>thal</th>\n",
       "      <th>target</th>\n",
       "    </tr>\n",
       "  </thead>\n",
       "  <tbody>\n",
       "    <tr>\n",
       "      <th>0</th>\n",
       "      <td>63</td>\n",
       "      <td>1</td>\n",
       "      <td>3</td>\n",
       "      <td>145</td>\n",
       "      <td>233</td>\n",
       "      <td>1</td>\n",
       "      <td>0</td>\n",
       "      <td>150</td>\n",
       "      <td>0</td>\n",
       "      <td>2.3</td>\n",
       "      <td>0</td>\n",
       "      <td>0</td>\n",
       "      <td>1</td>\n",
       "      <td>1</td>\n",
       "    </tr>\n",
       "    <tr>\n",
       "      <th>1</th>\n",
       "      <td>37</td>\n",
       "      <td>1</td>\n",
       "      <td>2</td>\n",
       "      <td>130</td>\n",
       "      <td>250</td>\n",
       "      <td>0</td>\n",
       "      <td>1</td>\n",
       "      <td>187</td>\n",
       "      <td>0</td>\n",
       "      <td>3.5</td>\n",
       "      <td>0</td>\n",
       "      <td>0</td>\n",
       "      <td>2</td>\n",
       "      <td>1</td>\n",
       "    </tr>\n",
       "    <tr>\n",
       "      <th>2</th>\n",
       "      <td>41</td>\n",
       "      <td>0</td>\n",
       "      <td>1</td>\n",
       "      <td>130</td>\n",
       "      <td>204</td>\n",
       "      <td>0</td>\n",
       "      <td>0</td>\n",
       "      <td>172</td>\n",
       "      <td>0</td>\n",
       "      <td>1.4</td>\n",
       "      <td>2</td>\n",
       "      <td>0</td>\n",
       "      <td>2</td>\n",
       "      <td>1</td>\n",
       "    </tr>\n",
       "    <tr>\n",
       "      <th>3</th>\n",
       "      <td>56</td>\n",
       "      <td>1</td>\n",
       "      <td>1</td>\n",
       "      <td>120</td>\n",
       "      <td>236</td>\n",
       "      <td>0</td>\n",
       "      <td>1</td>\n",
       "      <td>178</td>\n",
       "      <td>0</td>\n",
       "      <td>0.8</td>\n",
       "      <td>2</td>\n",
       "      <td>0</td>\n",
       "      <td>2</td>\n",
       "      <td>1</td>\n",
       "    </tr>\n",
       "    <tr>\n",
       "      <th>4</th>\n",
       "      <td>57</td>\n",
       "      <td>0</td>\n",
       "      <td>0</td>\n",
       "      <td>120</td>\n",
       "      <td>354</td>\n",
       "      <td>0</td>\n",
       "      <td>1</td>\n",
       "      <td>163</td>\n",
       "      <td>1</td>\n",
       "      <td>0.6</td>\n",
       "      <td>2</td>\n",
       "      <td>0</td>\n",
       "      <td>2</td>\n",
       "      <td>1</td>\n",
       "    </tr>\n",
       "  </tbody>\n",
       "</table>\n",
       "</div>"
      ],
      "text/plain": [
       "   age  sex  cp  trestbps  chol  fbs  restecg  thalach  exang  oldpeak  slope  \\\n",
       "0   63    1   3       145   233    1        0      150      0      2.3      0   \n",
       "1   37    1   2       130   250    0        1      187      0      3.5      0   \n",
       "2   41    0   1       130   204    0        0      172      0      1.4      2   \n",
       "3   56    1   1       120   236    0        1      178      0      0.8      2   \n",
       "4   57    0   0       120   354    0        1      163      1      0.6      2   \n",
       "\n",
       "   ca  thal  target  \n",
       "0   0     1       1  \n",
       "1   0     2       1  \n",
       "2   0     2       1  \n",
       "3   0     2       1  \n",
       "4   0     2       1  "
      ]
     },
     "execution_count": 5,
     "metadata": {},
     "output_type": "execute_result"
    }
   ],
   "source": [
    "df = pd.read_csv(\"heart.csv\")\n",
    "df.head()"
   ]
  },
  {
   "cell_type": "code",
   "execution_count": 7,
   "id": "b3b5daff-2839-4a19-af1d-0f6d9adb7eb9",
   "metadata": {
    "executionInfo": {
     "elapsed": 2,
     "status": "ok",
     "timestamp": 1736926712018,
     "user": {
      "displayName": "Shehla Kerimova",
      "userId": "15650581135197908661"
     },
     "user_tz": 480
    },
    "id": "b3b5daff-2839-4a19-af1d-0f6d9adb7eb9"
   },
   "outputs": [
    {
     "name": "stdout",
     "output_type": "stream",
     "text": [
      "<class 'pandas.core.frame.DataFrame'>\n",
      "RangeIndex: 303 entries, 0 to 302\n",
      "Data columns (total 14 columns):\n",
      " #   Column    Non-Null Count  Dtype  \n",
      "---  ------    --------------  -----  \n",
      " 0   age       303 non-null    int64  \n",
      " 1   sex       303 non-null    int64  \n",
      " 2   cp        303 non-null    int64  \n",
      " 3   trestbps  303 non-null    int64  \n",
      " 4   chol      303 non-null    int64  \n",
      " 5   fbs       303 non-null    int64  \n",
      " 6   restecg   303 non-null    int64  \n",
      " 7   thalach   303 non-null    int64  \n",
      " 8   exang     303 non-null    int64  \n",
      " 9   oldpeak   303 non-null    float64\n",
      " 10  slope     303 non-null    int64  \n",
      " 11  ca        303 non-null    int64  \n",
      " 12  thal      303 non-null    int64  \n",
      " 13  target    303 non-null    int64  \n",
      "dtypes: float64(1), int64(13)\n",
      "memory usage: 33.3 KB\n"
     ]
    }
   ],
   "source": [
    "df.info()"
   ]
  },
  {
   "cell_type": "code",
   "execution_count": 9,
   "id": "36f113b2-b2ed-4c74-870f-0b7199d11f5c",
   "metadata": {
    "executionInfo": {
     "elapsed": 7,
     "status": "ok",
     "timestamp": 1736926713851,
     "user": {
      "displayName": "Shehla Kerimova",
      "userId": "15650581135197908661"
     },
     "user_tz": 480
    },
    "id": "36f113b2-b2ed-4c74-870f-0b7199d11f5c"
   },
   "outputs": [
    {
     "data": {
      "text/plain": [
       "age         0\n",
       "sex         0\n",
       "cp          0\n",
       "trestbps    0\n",
       "chol        0\n",
       "fbs         0\n",
       "restecg     0\n",
       "thalach     0\n",
       "exang       0\n",
       "oldpeak     0\n",
       "slope       0\n",
       "ca          0\n",
       "thal        0\n",
       "target      0\n",
       "dtype: int64"
      ]
     },
     "execution_count": 9,
     "metadata": {},
     "output_type": "execute_result"
    }
   ],
   "source": [
    "df.isnull().sum()"
   ]
  },
  {
   "cell_type": "code",
   "execution_count": 11,
   "id": "8e11d114-11cd-48d8-8d72-5e1ffb1e990d",
   "metadata": {
    "colab": {
     "base_uri": "https://localhost:8080/"
    },
    "executionInfo": {
     "elapsed": 6,
     "status": "ok",
     "timestamp": 1736926713851,
     "user": {
      "displayName": "Shehla Kerimova",
      "userId": "15650581135197908661"
     },
     "user_tz": 480
    },
    "id": "8e11d114-11cd-48d8-8d72-5e1ffb1e990d",
    "outputId": "139c1cbd-1b62-491e-ccc6-45fa59e086c3"
   },
   "outputs": [
    {
     "data": {
      "text/plain": [
       "1"
      ]
     },
     "execution_count": 11,
     "metadata": {},
     "output_type": "execute_result"
    }
   ],
   "source": [
    "df.duplicated().sum()"
   ]
  },
  {
   "cell_type": "code",
   "execution_count": 13,
   "id": "d310d47d-44ba-48ff-8d1d-6d78955bd88f",
   "metadata": {
    "executionInfo": {
     "elapsed": 3,
     "status": "ok",
     "timestamp": 1736926713851,
     "user": {
      "displayName": "Shehla Kerimova",
      "userId": "15650581135197908661"
     },
     "user_tz": 480
    },
    "id": "d310d47d-44ba-48ff-8d1d-6d78955bd88f"
   },
   "outputs": [],
   "source": [
    "df.drop_duplicates(inplace= True)"
   ]
  },
  {
   "cell_type": "code",
   "execution_count": 15,
   "id": "577b33f7-0682-40ff-927e-43d9ddbabc35",
   "metadata": {
    "colab": {
     "base_uri": "https://localhost:8080/",
     "height": 237
    },
    "executionInfo": {
     "elapsed": 13,
     "status": "ok",
     "timestamp": 1736926714729,
     "user": {
      "displayName": "Shehla Kerimova",
      "userId": "15650581135197908661"
     },
     "user_tz": 480
    },
    "id": "577b33f7-0682-40ff-927e-43d9ddbabc35",
    "outputId": "de6e1edb-7ed6-4fb7-e64e-e028d8bb20c5"
   },
   "outputs": [
    {
     "data": {
      "text/html": [
       "<div>\n",
       "<style scoped>\n",
       "    .dataframe tbody tr th:only-of-type {\n",
       "        vertical-align: middle;\n",
       "    }\n",
       "\n",
       "    .dataframe tbody tr th {\n",
       "        vertical-align: top;\n",
       "    }\n",
       "\n",
       "    .dataframe thead th {\n",
       "        text-align: right;\n",
       "    }\n",
       "</style>\n",
       "<table border=\"1\" class=\"dataframe\">\n",
       "  <thead>\n",
       "    <tr style=\"text-align: right;\">\n",
       "      <th></th>\n",
       "      <th>age</th>\n",
       "      <th>sex</th>\n",
       "      <th>cp</th>\n",
       "      <th>trestbps</th>\n",
       "      <th>chol</th>\n",
       "      <th>fbs</th>\n",
       "      <th>restecg</th>\n",
       "      <th>thalach</th>\n",
       "      <th>exang</th>\n",
       "      <th>oldpeak</th>\n",
       "      <th>slope</th>\n",
       "      <th>ca</th>\n",
       "      <th>thal</th>\n",
       "      <th>target</th>\n",
       "    </tr>\n",
       "  </thead>\n",
       "  <tbody>\n",
       "    <tr>\n",
       "      <th>162</th>\n",
       "      <td>41</td>\n",
       "      <td>1</td>\n",
       "      <td>1</td>\n",
       "      <td>120</td>\n",
       "      <td>157</td>\n",
       "      <td>0</td>\n",
       "      <td>1</td>\n",
       "      <td>182</td>\n",
       "      <td>0</td>\n",
       "      <td>0.0</td>\n",
       "      <td>2</td>\n",
       "      <td>0</td>\n",
       "      <td>2</td>\n",
       "      <td>1</td>\n",
       "    </tr>\n",
       "    <tr>\n",
       "      <th>163</th>\n",
       "      <td>38</td>\n",
       "      <td>1</td>\n",
       "      <td>2</td>\n",
       "      <td>138</td>\n",
       "      <td>175</td>\n",
       "      <td>0</td>\n",
       "      <td>1</td>\n",
       "      <td>173</td>\n",
       "      <td>0</td>\n",
       "      <td>0.0</td>\n",
       "      <td>2</td>\n",
       "      <td>4</td>\n",
       "      <td>2</td>\n",
       "      <td>1</td>\n",
       "    </tr>\n",
       "    <tr>\n",
       "      <th>165</th>\n",
       "      <td>67</td>\n",
       "      <td>1</td>\n",
       "      <td>0</td>\n",
       "      <td>160</td>\n",
       "      <td>286</td>\n",
       "      <td>0</td>\n",
       "      <td>0</td>\n",
       "      <td>108</td>\n",
       "      <td>1</td>\n",
       "      <td>1.5</td>\n",
       "      <td>1</td>\n",
       "      <td>3</td>\n",
       "      <td>2</td>\n",
       "      <td>0</td>\n",
       "    </tr>\n",
       "    <tr>\n",
       "      <th>166</th>\n",
       "      <td>67</td>\n",
       "      <td>1</td>\n",
       "      <td>0</td>\n",
       "      <td>120</td>\n",
       "      <td>229</td>\n",
       "      <td>0</td>\n",
       "      <td>0</td>\n",
       "      <td>129</td>\n",
       "      <td>1</td>\n",
       "      <td>2.6</td>\n",
       "      <td>1</td>\n",
       "      <td>2</td>\n",
       "      <td>3</td>\n",
       "      <td>0</td>\n",
       "    </tr>\n",
       "    <tr>\n",
       "      <th>167</th>\n",
       "      <td>62</td>\n",
       "      <td>0</td>\n",
       "      <td>0</td>\n",
       "      <td>140</td>\n",
       "      <td>268</td>\n",
       "      <td>0</td>\n",
       "      <td>0</td>\n",
       "      <td>160</td>\n",
       "      <td>0</td>\n",
       "      <td>3.6</td>\n",
       "      <td>0</td>\n",
       "      <td>2</td>\n",
       "      <td>2</td>\n",
       "      <td>0</td>\n",
       "    </tr>\n",
       "    <tr>\n",
       "      <th>168</th>\n",
       "      <td>63</td>\n",
       "      <td>1</td>\n",
       "      <td>0</td>\n",
       "      <td>130</td>\n",
       "      <td>254</td>\n",
       "      <td>0</td>\n",
       "      <td>0</td>\n",
       "      <td>147</td>\n",
       "      <td>0</td>\n",
       "      <td>1.4</td>\n",
       "      <td>1</td>\n",
       "      <td>1</td>\n",
       "      <td>3</td>\n",
       "      <td>0</td>\n",
       "    </tr>\n",
       "  </tbody>\n",
       "</table>\n",
       "</div>"
      ],
      "text/plain": [
       "     age  sex  cp  trestbps  chol  fbs  restecg  thalach  exang  oldpeak  \\\n",
       "162   41    1   1       120   157    0        1      182      0      0.0   \n",
       "163   38    1   2       138   175    0        1      173      0      0.0   \n",
       "165   67    1   0       160   286    0        0      108      1      1.5   \n",
       "166   67    1   0       120   229    0        0      129      1      2.6   \n",
       "167   62    0   0       140   268    0        0      160      0      3.6   \n",
       "168   63    1   0       130   254    0        0      147      0      1.4   \n",
       "\n",
       "     slope  ca  thal  target  \n",
       "162      2   0     2       1  \n",
       "163      2   4     2       1  \n",
       "165      1   3     2       0  \n",
       "166      1   2     3       0  \n",
       "167      0   2     2       0  \n",
       "168      1   1     3       0  "
      ]
     },
     "execution_count": 15,
     "metadata": {},
     "output_type": "execute_result"
    }
   ],
   "source": [
    "df[162:168]"
   ]
  },
  {
   "cell_type": "code",
   "execution_count": 17,
   "id": "6c70b9ed-c397-4a21-91b9-82da7d058731",
   "metadata": {
    "colab": {
     "base_uri": "https://localhost:8080/"
    },
    "executionInfo": {
     "elapsed": 12,
     "status": "ok",
     "timestamp": 1736926714730,
     "user": {
      "displayName": "Shehla Kerimova",
      "userId": "15650581135197908661"
     },
     "user_tz": 480
    },
    "id": "6c70b9ed-c397-4a21-91b9-82da7d058731",
    "outputId": "7633aa2b-5d0a-467f-b11f-f2266fed8b03"
   },
   "outputs": [
    {
     "data": {
      "text/plain": [
       "0"
      ]
     },
     "execution_count": 17,
     "metadata": {},
     "output_type": "execute_result"
    }
   ],
   "source": [
    "df.reset_index(drop=True,inplace=True)\n",
    "df.duplicated().sum()"
   ]
  },
  {
   "cell_type": "code",
   "execution_count": 19,
   "id": "0d9faac9-70d7-484b-8be8-c706462b503b",
   "metadata": {
    "executionInfo": {
     "elapsed": 10,
     "status": "ok",
     "timestamp": 1736926714730,
     "user": {
      "displayName": "Shehla Kerimova",
      "userId": "15650581135197908661"
     },
     "user_tz": 480
    },
    "id": "0d9faac9-70d7-484b-8be8-c706462b503b"
   },
   "outputs": [
    {
     "name": "stdout",
     "output_type": "stream",
     "text": [
      "<class 'pandas.core.frame.DataFrame'>\n",
      "RangeIndex: 302 entries, 0 to 301\n",
      "Data columns (total 14 columns):\n",
      " #   Column    Non-Null Count  Dtype  \n",
      "---  ------    --------------  -----  \n",
      " 0   age       302 non-null    int64  \n",
      " 1   sex       302 non-null    int64  \n",
      " 2   cp        302 non-null    object \n",
      " 3   trestbps  302 non-null    int64  \n",
      " 4   chol      302 non-null    int64  \n",
      " 5   fbs       302 non-null    int64  \n",
      " 6   restecg   302 non-null    object \n",
      " 7   thalach   302 non-null    int64  \n",
      " 8   exang     302 non-null    int64  \n",
      " 9   oldpeak   302 non-null    float64\n",
      " 10  slope     302 non-null    object \n",
      " 11  ca        302 non-null    object \n",
      " 12  thal      302 non-null    object \n",
      " 13  target    302 non-null    int64  \n",
      "dtypes: float64(1), int64(8), object(5)\n",
      "memory usage: 33.2+ KB\n"
     ]
    }
   ],
   "source": [
    "df[['cp', 'thal', 'restecg', 'slope', 'ca']] = df[['cp', 'thal', 'restecg', 'slope', 'ca']].astype(object)\n",
    "df.info()"
   ]
  },
  {
   "cell_type": "code",
   "execution_count": 21,
   "id": "e424d43d-9048-4696-ab65-95cb10b5fd40",
   "metadata": {
    "colab": {
     "base_uri": "https://localhost:8080/",
     "height": 226
    },
    "executionInfo": {
     "elapsed": 10,
     "status": "ok",
     "timestamp": 1736926714730,
     "user": {
      "displayName": "Shehla Kerimova",
      "userId": "15650581135197908661"
     },
     "user_tz": 480
    },
    "id": "e424d43d-9048-4696-ab65-95cb10b5fd40",
    "outputId": "f12dd40b-5003-409d-cb46-64901614d90c"
   },
   "outputs": [
    {
     "data": {
      "text/html": [
       "<div>\n",
       "<style scoped>\n",
       "    .dataframe tbody tr th:only-of-type {\n",
       "        vertical-align: middle;\n",
       "    }\n",
       "\n",
       "    .dataframe tbody tr th {\n",
       "        vertical-align: top;\n",
       "    }\n",
       "\n",
       "    .dataframe thead th {\n",
       "        text-align: right;\n",
       "    }\n",
       "</style>\n",
       "<table border=\"1\" class=\"dataframe\">\n",
       "  <thead>\n",
       "    <tr style=\"text-align: right;\">\n",
       "      <th></th>\n",
       "      <th>cp_0</th>\n",
       "      <th>cp_1</th>\n",
       "      <th>cp_2</th>\n",
       "      <th>cp_3</th>\n",
       "      <th>thal_0</th>\n",
       "      <th>thal_1</th>\n",
       "      <th>thal_2</th>\n",
       "      <th>thal_3</th>\n",
       "      <th>restecg_0</th>\n",
       "      <th>restecg_1</th>\n",
       "      <th>restecg_2</th>\n",
       "      <th>slope_0</th>\n",
       "      <th>slope_1</th>\n",
       "      <th>slope_2</th>\n",
       "      <th>ca_0</th>\n",
       "      <th>ca_1</th>\n",
       "      <th>ca_2</th>\n",
       "      <th>ca_3</th>\n",
       "      <th>ca_4</th>\n",
       "    </tr>\n",
       "  </thead>\n",
       "  <tbody>\n",
       "    <tr>\n",
       "      <th>0</th>\n",
       "      <td>0.0</td>\n",
       "      <td>0.0</td>\n",
       "      <td>0.0</td>\n",
       "      <td>1.0</td>\n",
       "      <td>0.0</td>\n",
       "      <td>1.0</td>\n",
       "      <td>0.0</td>\n",
       "      <td>0.0</td>\n",
       "      <td>1.0</td>\n",
       "      <td>0.0</td>\n",
       "      <td>0.0</td>\n",
       "      <td>1.0</td>\n",
       "      <td>0.0</td>\n",
       "      <td>0.0</td>\n",
       "      <td>1.0</td>\n",
       "      <td>0.0</td>\n",
       "      <td>0.0</td>\n",
       "      <td>0.0</td>\n",
       "      <td>0.0</td>\n",
       "    </tr>\n",
       "    <tr>\n",
       "      <th>1</th>\n",
       "      <td>0.0</td>\n",
       "      <td>0.0</td>\n",
       "      <td>1.0</td>\n",
       "      <td>0.0</td>\n",
       "      <td>0.0</td>\n",
       "      <td>0.0</td>\n",
       "      <td>1.0</td>\n",
       "      <td>0.0</td>\n",
       "      <td>0.0</td>\n",
       "      <td>1.0</td>\n",
       "      <td>0.0</td>\n",
       "      <td>1.0</td>\n",
       "      <td>0.0</td>\n",
       "      <td>0.0</td>\n",
       "      <td>1.0</td>\n",
       "      <td>0.0</td>\n",
       "      <td>0.0</td>\n",
       "      <td>0.0</td>\n",
       "      <td>0.0</td>\n",
       "    </tr>\n",
       "    <tr>\n",
       "      <th>2</th>\n",
       "      <td>0.0</td>\n",
       "      <td>1.0</td>\n",
       "      <td>0.0</td>\n",
       "      <td>0.0</td>\n",
       "      <td>0.0</td>\n",
       "      <td>0.0</td>\n",
       "      <td>1.0</td>\n",
       "      <td>0.0</td>\n",
       "      <td>1.0</td>\n",
       "      <td>0.0</td>\n",
       "      <td>0.0</td>\n",
       "      <td>0.0</td>\n",
       "      <td>0.0</td>\n",
       "      <td>1.0</td>\n",
       "      <td>1.0</td>\n",
       "      <td>0.0</td>\n",
       "      <td>0.0</td>\n",
       "      <td>0.0</td>\n",
       "      <td>0.0</td>\n",
       "    </tr>\n",
       "    <tr>\n",
       "      <th>3</th>\n",
       "      <td>0.0</td>\n",
       "      <td>1.0</td>\n",
       "      <td>0.0</td>\n",
       "      <td>0.0</td>\n",
       "      <td>0.0</td>\n",
       "      <td>0.0</td>\n",
       "      <td>1.0</td>\n",
       "      <td>0.0</td>\n",
       "      <td>0.0</td>\n",
       "      <td>1.0</td>\n",
       "      <td>0.0</td>\n",
       "      <td>0.0</td>\n",
       "      <td>0.0</td>\n",
       "      <td>1.0</td>\n",
       "      <td>1.0</td>\n",
       "      <td>0.0</td>\n",
       "      <td>0.0</td>\n",
       "      <td>0.0</td>\n",
       "      <td>0.0</td>\n",
       "    </tr>\n",
       "    <tr>\n",
       "      <th>4</th>\n",
       "      <td>1.0</td>\n",
       "      <td>0.0</td>\n",
       "      <td>0.0</td>\n",
       "      <td>0.0</td>\n",
       "      <td>0.0</td>\n",
       "      <td>0.0</td>\n",
       "      <td>1.0</td>\n",
       "      <td>0.0</td>\n",
       "      <td>0.0</td>\n",
       "      <td>1.0</td>\n",
       "      <td>0.0</td>\n",
       "      <td>0.0</td>\n",
       "      <td>0.0</td>\n",
       "      <td>1.0</td>\n",
       "      <td>1.0</td>\n",
       "      <td>0.0</td>\n",
       "      <td>0.0</td>\n",
       "      <td>0.0</td>\n",
       "      <td>0.0</td>\n",
       "    </tr>\n",
       "  </tbody>\n",
       "</table>\n",
       "</div>"
      ],
      "text/plain": [
       "   cp_0  cp_1  cp_2  cp_3  thal_0  thal_1  thal_2  thal_3  restecg_0  \\\n",
       "0   0.0   0.0   0.0   1.0     0.0     1.0     0.0     0.0        1.0   \n",
       "1   0.0   0.0   1.0   0.0     0.0     0.0     1.0     0.0        0.0   \n",
       "2   0.0   1.0   0.0   0.0     0.0     0.0     1.0     0.0        1.0   \n",
       "3   0.0   1.0   0.0   0.0     0.0     0.0     1.0     0.0        0.0   \n",
       "4   1.0   0.0   0.0   0.0     0.0     0.0     1.0     0.0        0.0   \n",
       "\n",
       "   restecg_1  restecg_2  slope_0  slope_1  slope_2  ca_0  ca_1  ca_2  ca_3  \\\n",
       "0        0.0        0.0      1.0      0.0      0.0   1.0   0.0   0.0   0.0   \n",
       "1        1.0        0.0      1.0      0.0      0.0   1.0   0.0   0.0   0.0   \n",
       "2        0.0        0.0      0.0      0.0      1.0   1.0   0.0   0.0   0.0   \n",
       "3        1.0        0.0      0.0      0.0      1.0   1.0   0.0   0.0   0.0   \n",
       "4        1.0        0.0      0.0      0.0      1.0   1.0   0.0   0.0   0.0   \n",
       "\n",
       "   ca_4  \n",
       "0   0.0  \n",
       "1   0.0  \n",
       "2   0.0  \n",
       "3   0.0  \n",
       "4   0.0  "
      ]
     },
     "execution_count": 21,
     "metadata": {},
     "output_type": "execute_result"
    }
   ],
   "source": [
    "from sklearn.preprocessing import OneHotEncoder\n",
    "ohe = OneHotEncoder(handle_unknown = 'ignore')\n",
    "col_list = ['cp', 'thal', 'restecg', 'slope', 'ca']\n",
    "\n",
    "ohe.fit(df[col_list])\n",
    "transformed = ohe.transform(df[col_list]).toarray()\n",
    "transformed_df = pd.DataFrame(data = transformed, columns=ohe.get_feature_names_out(col_list))\n",
    "transformed_df.head()"
   ]
  },
  {
   "cell_type": "code",
   "execution_count": 27,
   "id": "5369914e-4288-42bc-b089-94999a3e10b2",
   "metadata": {
    "executionInfo": {
     "elapsed": 8,
     "status": "ok",
     "timestamp": 1736926714730,
     "user": {
      "displayName": "Shehla Kerimova",
      "userId": "15650581135197908661"
     },
     "user_tz": 480
    },
    "id": "5369914e-4288-42bc-b089-94999a3e10b2"
   },
   "outputs": [
    {
     "name": "stdout",
     "output_type": "stream",
     "text": [
      "<class 'pandas.core.frame.DataFrame'>\n",
      "RangeIndex: 302 entries, 0 to 301\n",
      "Data columns (total 14 columns):\n",
      " #   Column    Non-Null Count  Dtype  \n",
      "---  ------    --------------  -----  \n",
      " 0   age       302 non-null    int64  \n",
      " 1   sex       302 non-null    int64  \n",
      " 2   cp        302 non-null    object \n",
      " 3   trestbps  302 non-null    int64  \n",
      " 4   chol      302 non-null    int64  \n",
      " 5   fbs       302 non-null    int64  \n",
      " 6   restecg   302 non-null    object \n",
      " 7   thalach   302 non-null    int64  \n",
      " 8   exang     302 non-null    int64  \n",
      " 9   oldpeak   302 non-null    float64\n",
      " 10  slope     302 non-null    object \n",
      " 11  ca        302 non-null    object \n",
      " 12  thal      302 non-null    object \n",
      " 13  target    302 non-null    int64  \n",
      "dtypes: float64(1), int64(8), object(5)\n",
      "memory usage: 33.2+ KB\n"
     ]
    }
   ],
   "source": [
    "df.info()"
   ]
  },
  {
   "cell_type": "code",
   "execution_count": 29,
   "id": "91b6d089-265f-4734-8dc4-d9c74169e214",
   "metadata": {
    "colab": {
     "base_uri": "https://localhost:8080/",
     "height": 366
    },
    "executionInfo": {
     "elapsed": 13,
     "status": "ok",
     "timestamp": 1736926716163,
     "user": {
      "displayName": "Shehla Kerimova",
      "userId": "15650581135197908661"
     },
     "user_tz": 480
    },
    "id": "91b6d089-265f-4734-8dc4-d9c74169e214",
    "outputId": "e05f65fd-75a0-4d37-ecdb-3ecfaae4bbcf"
   },
   "outputs": [
    {
     "data": {
      "text/plain": [
       "age         0\n",
       "sex         0\n",
       "trestbps    0\n",
       "chol        0\n",
       "fbs         0\n",
       "thalach     0\n",
       "exang       0\n",
       "oldpeak     0\n",
       "target      0\n",
       "dtype: int64"
      ]
     },
     "execution_count": 29,
     "metadata": {},
     "output_type": "execute_result"
    }
   ],
   "source": [
    "df_dropped = df.drop(col_list,axis=1)\n",
    "df_dropped.isnull().sum()"
   ]
  },
  {
   "cell_type": "code",
   "execution_count": 31,
   "id": "f57a18c5-ab47-4972-8c5b-af64af821bda",
   "metadata": {
    "colab": {
     "base_uri": "https://localhost:8080/",
     "height": 255
    },
    "executionInfo": {
     "elapsed": 12,
     "status": "ok",
     "timestamp": 1736926716164,
     "user": {
      "displayName": "Shehla Kerimova",
      "userId": "15650581135197908661"
     },
     "user_tz": 480
    },
    "id": "f57a18c5-ab47-4972-8c5b-af64af821bda",
    "outputId": "90cd956c-705f-42e3-8fcb-bc8278821767"
   },
   "outputs": [
    {
     "data": {
      "text/html": [
       "<div>\n",
       "<style scoped>\n",
       "    .dataframe tbody tr th:only-of-type {\n",
       "        vertical-align: middle;\n",
       "    }\n",
       "\n",
       "    .dataframe tbody tr th {\n",
       "        vertical-align: top;\n",
       "    }\n",
       "\n",
       "    .dataframe thead th {\n",
       "        text-align: right;\n",
       "    }\n",
       "</style>\n",
       "<table border=\"1\" class=\"dataframe\">\n",
       "  <thead>\n",
       "    <tr style=\"text-align: right;\">\n",
       "      <th></th>\n",
       "      <th>age</th>\n",
       "      <th>sex</th>\n",
       "      <th>trestbps</th>\n",
       "      <th>chol</th>\n",
       "      <th>fbs</th>\n",
       "      <th>thalach</th>\n",
       "      <th>exang</th>\n",
       "      <th>oldpeak</th>\n",
       "      <th>target</th>\n",
       "      <th>cp_0</th>\n",
       "      <th>...</th>\n",
       "      <th>restecg_1</th>\n",
       "      <th>restecg_2</th>\n",
       "      <th>slope_0</th>\n",
       "      <th>slope_1</th>\n",
       "      <th>slope_2</th>\n",
       "      <th>ca_0</th>\n",
       "      <th>ca_1</th>\n",
       "      <th>ca_2</th>\n",
       "      <th>ca_3</th>\n",
       "      <th>ca_4</th>\n",
       "    </tr>\n",
       "  </thead>\n",
       "  <tbody>\n",
       "    <tr>\n",
       "      <th>0</th>\n",
       "      <td>63</td>\n",
       "      <td>1</td>\n",
       "      <td>145</td>\n",
       "      <td>233</td>\n",
       "      <td>1</td>\n",
       "      <td>150</td>\n",
       "      <td>0</td>\n",
       "      <td>2.3</td>\n",
       "      <td>1</td>\n",
       "      <td>0.0</td>\n",
       "      <td>...</td>\n",
       "      <td>0.0</td>\n",
       "      <td>0.0</td>\n",
       "      <td>1.0</td>\n",
       "      <td>0.0</td>\n",
       "      <td>0.0</td>\n",
       "      <td>1.0</td>\n",
       "      <td>0.0</td>\n",
       "      <td>0.0</td>\n",
       "      <td>0.0</td>\n",
       "      <td>0.0</td>\n",
       "    </tr>\n",
       "    <tr>\n",
       "      <th>1</th>\n",
       "      <td>37</td>\n",
       "      <td>1</td>\n",
       "      <td>130</td>\n",
       "      <td>250</td>\n",
       "      <td>0</td>\n",
       "      <td>187</td>\n",
       "      <td>0</td>\n",
       "      <td>3.5</td>\n",
       "      <td>1</td>\n",
       "      <td>0.0</td>\n",
       "      <td>...</td>\n",
       "      <td>1.0</td>\n",
       "      <td>0.0</td>\n",
       "      <td>1.0</td>\n",
       "      <td>0.0</td>\n",
       "      <td>0.0</td>\n",
       "      <td>1.0</td>\n",
       "      <td>0.0</td>\n",
       "      <td>0.0</td>\n",
       "      <td>0.0</td>\n",
       "      <td>0.0</td>\n",
       "    </tr>\n",
       "    <tr>\n",
       "      <th>2</th>\n",
       "      <td>41</td>\n",
       "      <td>0</td>\n",
       "      <td>130</td>\n",
       "      <td>204</td>\n",
       "      <td>0</td>\n",
       "      <td>172</td>\n",
       "      <td>0</td>\n",
       "      <td>1.4</td>\n",
       "      <td>1</td>\n",
       "      <td>0.0</td>\n",
       "      <td>...</td>\n",
       "      <td>0.0</td>\n",
       "      <td>0.0</td>\n",
       "      <td>0.0</td>\n",
       "      <td>0.0</td>\n",
       "      <td>1.0</td>\n",
       "      <td>1.0</td>\n",
       "      <td>0.0</td>\n",
       "      <td>0.0</td>\n",
       "      <td>0.0</td>\n",
       "      <td>0.0</td>\n",
       "    </tr>\n",
       "    <tr>\n",
       "      <th>3</th>\n",
       "      <td>56</td>\n",
       "      <td>1</td>\n",
       "      <td>120</td>\n",
       "      <td>236</td>\n",
       "      <td>0</td>\n",
       "      <td>178</td>\n",
       "      <td>0</td>\n",
       "      <td>0.8</td>\n",
       "      <td>1</td>\n",
       "      <td>0.0</td>\n",
       "      <td>...</td>\n",
       "      <td>1.0</td>\n",
       "      <td>0.0</td>\n",
       "      <td>0.0</td>\n",
       "      <td>0.0</td>\n",
       "      <td>1.0</td>\n",
       "      <td>1.0</td>\n",
       "      <td>0.0</td>\n",
       "      <td>0.0</td>\n",
       "      <td>0.0</td>\n",
       "      <td>0.0</td>\n",
       "    </tr>\n",
       "    <tr>\n",
       "      <th>4</th>\n",
       "      <td>57</td>\n",
       "      <td>0</td>\n",
       "      <td>120</td>\n",
       "      <td>354</td>\n",
       "      <td>0</td>\n",
       "      <td>163</td>\n",
       "      <td>1</td>\n",
       "      <td>0.6</td>\n",
       "      <td>1</td>\n",
       "      <td>1.0</td>\n",
       "      <td>...</td>\n",
       "      <td>1.0</td>\n",
       "      <td>0.0</td>\n",
       "      <td>0.0</td>\n",
       "      <td>0.0</td>\n",
       "      <td>1.0</td>\n",
       "      <td>1.0</td>\n",
       "      <td>0.0</td>\n",
       "      <td>0.0</td>\n",
       "      <td>0.0</td>\n",
       "      <td>0.0</td>\n",
       "    </tr>\n",
       "  </tbody>\n",
       "</table>\n",
       "<p>5 rows × 28 columns</p>\n",
       "</div>"
      ],
      "text/plain": [
       "   age  sex  trestbps  chol  fbs  thalach  exang  oldpeak  target  cp_0  ...  \\\n",
       "0   63    1       145   233    1      150      0      2.3       1   0.0  ...   \n",
       "1   37    1       130   250    0      187      0      3.5       1   0.0  ...   \n",
       "2   41    0       130   204    0      172      0      1.4       1   0.0  ...   \n",
       "3   56    1       120   236    0      178      0      0.8       1   0.0  ...   \n",
       "4   57    0       120   354    0      163      1      0.6       1   1.0  ...   \n",
       "\n",
       "   restecg_1  restecg_2  slope_0  slope_1  slope_2  ca_0  ca_1  ca_2  ca_3  \\\n",
       "0        0.0        0.0      1.0      0.0      0.0   1.0   0.0   0.0   0.0   \n",
       "1        1.0        0.0      1.0      0.0      0.0   1.0   0.0   0.0   0.0   \n",
       "2        0.0        0.0      0.0      0.0      1.0   1.0   0.0   0.0   0.0   \n",
       "3        1.0        0.0      0.0      0.0      1.0   1.0   0.0   0.0   0.0   \n",
       "4        1.0        0.0      0.0      0.0      1.0   1.0   0.0   0.0   0.0   \n",
       "\n",
       "   ca_4  \n",
       "0   0.0  \n",
       "1   0.0  \n",
       "2   0.0  \n",
       "3   0.0  \n",
       "4   0.0  \n",
       "\n",
       "[5 rows x 28 columns]"
      ]
     },
     "execution_count": 31,
     "metadata": {},
     "output_type": "execute_result"
    }
   ],
   "source": [
    "df_final = pd.concat([df_dropped, transformed_df], axis=1)\n",
    "df_final.head()"
   ]
  },
  {
   "cell_type": "code",
   "execution_count": 33,
   "id": "69961995-1706-4ae5-bd2e-4919c59491f0",
   "metadata": {
    "colab": {
     "base_uri": "https://localhost:8080/"
    },
    "executionInfo": {
     "elapsed": 11,
     "status": "ok",
     "timestamp": 1736926716164,
     "user": {
      "displayName": "Shehla Kerimova",
      "userId": "15650581135197908661"
     },
     "user_tz": 480
    },
    "id": "69961995-1706-4ae5-bd2e-4919c59491f0",
    "outputId": "9b7768ce-0ebf-4351-d511-9f1944e379cf"
   },
   "outputs": [
    {
     "data": {
      "text/plain": [
       "0"
      ]
     },
     "execution_count": 33,
     "metadata": {},
     "output_type": "execute_result"
    }
   ],
   "source": [
    "df_final.duplicated().sum()"
   ]
  },
  {
   "cell_type": "code",
   "execution_count": 35,
   "id": "d62d90ee-8fc4-4ee0-818b-f0d53f99793d",
   "metadata": {
    "executionInfo": {
     "elapsed": 8,
     "status": "ok",
     "timestamp": 1736926716164,
     "user": {
      "displayName": "Shehla Kerimova",
      "userId": "15650581135197908661"
     },
     "user_tz": 480
    },
    "id": "d62d90ee-8fc4-4ee0-818b-f0d53f99793d"
   },
   "outputs": [],
   "source": [
    "X = df_final.drop('target', axis=1)\n",
    "y = df_final['target']\n",
    "X_train, X_test, y_train, y_test = train_test_split(X,y, test_size =0.2, random_state= 101, shuffle= True, stratify=y)"
   ]
  },
  {
   "cell_type": "code",
   "execution_count": 37,
   "id": "7810e0a9-743f-415a-a2cd-8ad9244404f8",
   "metadata": {
    "colab": {
     "base_uri": "https://localhost:8080/"
    },
    "executionInfo": {
     "elapsed": 9,
     "status": "ok",
     "timestamp": 1736926717984,
     "user": {
      "displayName": "Shehla Kerimova",
      "userId": "15650581135197908661"
     },
     "user_tz": 480
    },
    "id": "7810e0a9-743f-415a-a2cd-8ad9244404f8",
    "outputId": "55a61623-897a-456c-b5c2-1c4c1f063b8c"
   },
   "outputs": [
    {
     "data": {
      "text/plain": [
       "((241, 27), (61, 27), (241,), (61,))"
      ]
     },
     "execution_count": 37,
     "metadata": {},
     "output_type": "execute_result"
    }
   ],
   "source": [
    "X_train.shape, X_test.shape, y_train.shape, y_test.shape"
   ]
  },
  {
   "cell_type": "code",
   "execution_count": 39,
   "id": "f1bb75a0-f367-4cee-b173-f807c9d45cfa",
   "metadata": {
    "executionInfo": {
     "elapsed": 9,
     "status": "ok",
     "timestamp": 1736926717985,
     "user": {
      "displayName": "Shehla Kerimova",
      "userId": "15650581135197908661"
     },
     "user_tz": 480
    },
    "id": "f1bb75a0-f367-4cee-b173-f807c9d45cfa"
   },
   "outputs": [],
   "source": [
    "from sklearn.preprocessing import StandardScaler\n",
    "ss= StandardScaler()\n",
    "ss.fit(X_train)\n",
    "X_train_scaled = ss.transform(X_train)\n",
    "X_test_scaled = ss.transform(X_test)"
   ]
  },
  {
   "cell_type": "code",
   "execution_count": 41,
   "id": "b1a85d9b-f1aa-404e-8bfb-7cecf228644e",
   "metadata": {
    "executionInfo": {
     "elapsed": 8,
     "status": "ok",
     "timestamp": 1736926717985,
     "user": {
      "displayName": "Shehla Kerimova",
      "userId": "15650581135197908661"
     },
     "user_tz": 480
    },
    "id": "b1a85d9b-f1aa-404e-8bfb-7cecf228644e"
   },
   "outputs": [],
   "source": [
    "#Evaluation\n",
    "models_list = [\"Logistic Regression\", \"KNN\"]\n",
    "accuracy_list, cv_mean_list, precision_list, recall_list, aucScore_list, f1_score_list = [], [], [], [], [], []"
   ]
  },
  {
   "cell_type": "code",
   "execution_count": 43,
   "id": "b6ecc352-8b46-4138-954a-6d6902707161",
   "metadata": {
    "executionInfo": {
     "elapsed": 6,
     "status": "ok",
     "timestamp": 1736926717985,
     "user": {
      "displayName": "Shehla Kerimova",
      "userId": "15650581135197908661"
     },
     "user_tz": 480
    },
    "id": "b6ecc352-8b46-4138-954a-6d6902707161"
   },
   "outputs": [],
   "source": [
    "#Logistic Reg\n",
    "from sklearn.linear_model import LogisticRegression\n",
    "\n",
    "model = LogisticRegression(max_iter=10000, random_state=42)\n",
    "model_LR = model.fit(X_train_scaled, y_train)\n",
    "y_pred_log_reg = model_LR.predict( X_test_scaled)"
   ]
  },
  {
   "cell_type": "code",
   "execution_count": 45,
   "id": "6d9404ce-5575-4949-ae1f-07b3e8e3e0a8",
   "metadata": {
    "colab": {
     "base_uri": "https://localhost:8080/"
    },
    "executionInfo": {
     "elapsed": 6,
     "status": "ok",
     "timestamp": 1736926717985,
     "user": {
      "displayName": "Shehla Kerimova",
      "userId": "15650581135197908661"
     },
     "user_tz": 480
    },
    "id": "6d9404ce-5575-4949-ae1f-07b3e8e3e0a8",
    "outputId": "f3cefbab-e3ce-4415-aefe-f9d6f0d64f18"
   },
   "outputs": [
    {
     "name": "stdout",
     "output_type": "stream",
     "text": [
      "Confusion matrix:\n",
      " [[25  3]\n",
      " [ 6 27]]\n"
     ]
    }
   ],
   "source": [
    "from sklearn.metrics import accuracy_score, confusion_matrix, roc_auc_score, f1_score, recall_score, precision_score\n",
    "cm_log_reg = confusion_matrix(y_pred=y_pred_log_reg, y_true= y_test)\n",
    "\n",
    "print(\"Confusion matrix:\\n\", cm_log_reg)\n",
    "\n",
    "accuarcy_log_reg = accuracy_score(y_test, y_pred_log_reg)\n",
    "precision_log_reg = precision_score(y_test, y_pred_log_reg)\n",
    "recall_log_reg = recall_score(y_test, y_pred_log_reg)\n",
    "f1_score_log_reg = f1_score(y_test, y_pred_log_reg)\n",
    "\n",
    "accuracy_list.append(accuarcy_log_reg)\n",
    "precision_list.append(precision_log_reg)\n",
    "recall_list.append(recall_log_reg)\n",
    "f1_score_list.append(f1_score_log_reg)\n"
   ]
  },
  {
   "cell_type": "code",
   "execution_count": 47,
   "id": "3c47f982-a417-491d-8ce5-5d29625a92c4",
   "metadata": {
    "colab": {
     "base_uri": "https://localhost:8080/"
    },
    "executionInfo": {
     "elapsed": 7,
     "status": "ok",
     "timestamp": 1736926720089,
     "user": {
      "displayName": "Shehla Kerimova",
      "userId": "15650581135197908661"
     },
     "user_tz": 480
    },
    "id": "3c47f982-a417-491d-8ce5-5d29625a92c4",
    "outputId": "cabc7f66-503f-40ce-e5df-3a209cff9642"
   },
   "outputs": [
    {
     "name": "stdout",
     "output_type": "stream",
     "text": [
      "\n",
      "Accuracy score: 0.8524590163934426 \n",
      "Precision score: 0.9 \n",
      "Recall score: 0.8181818181818182 \n",
      "F1 score: 0.8571428571428571\n"
     ]
    }
   ],
   "source": [
    "print(\"\\nAccuracy score:\", accuarcy_log_reg,\n",
    "      \"\\nPrecision score:\", precision_log_reg,\n",
    "      \"\\nRecall score:\", recall_log_reg,\n",
    "      \"\\nF1 score:\",f1_score_log_reg)"
   ]
  },
  {
   "cell_type": "code",
   "execution_count": 49,
   "id": "339b575d-4357-4fce-be58-0e8c01ed0a84",
   "metadata": {
    "colab": {
     "base_uri": "https://localhost:8080/"
    },
    "executionInfo": {
     "elapsed": 6,
     "status": "ok",
     "timestamp": 1736926720089,
     "user": {
      "displayName": "Shehla Kerimova",
      "userId": "15650581135197908661"
     },
     "user_tz": 480
    },
    "id": "339b575d-4357-4fce-be58-0e8c01ed0a84",
    "outputId": "5cb608d6-1313-407d-b6fe-0c92a2d712ae"
   },
   "outputs": [
    {
     "name": "stdout",
     "output_type": "stream",
     "text": [
      "[[25  3]\n",
      " [ 6 27]]\n",
      "              precision    recall  f1-score   support\n",
      "\n",
      "           0       0.81      0.89      0.85        28\n",
      "           1       0.90      0.82      0.86        33\n",
      "\n",
      "    accuracy                           0.85        61\n",
      "   macro avg       0.85      0.86      0.85        61\n",
      "weighted avg       0.86      0.85      0.85        61\n",
      "\n"
     ]
    }
   ],
   "source": [
    "from sklearn.metrics import  classification_report\n",
    "print(cm_log_reg)\n",
    "print(classification_report(y_test, y_pred_log_reg))"
   ]
  },
  {
   "cell_type": "code",
   "execution_count": 51,
   "id": "15de1821-7715-4fd7-bf23-a7b3b39a4d51",
   "metadata": {
    "colab": {
     "base_uri": "https://localhost:8080/"
    },
    "executionInfo": {
     "elapsed": 1834,
     "status": "ok",
     "timestamp": 1736926721919,
     "user": {
      "displayName": "Shehla Kerimova",
      "userId": "15650581135197908661"
     },
     "user_tz": 480
    },
    "id": "15de1821-7715-4fd7-bf23-a7b3b39a4d51",
    "outputId": "cf47d2bc-6938-4dd1-8bcc-cb7be772b115"
   },
   "outputs": [
    {
     "name": "stderr",
     "output_type": "stream",
     "text": [
      "[Parallel(n_jobs=-1)]: Using backend LokyBackend with 4 concurrent workers.\n"
     ]
    },
    {
     "name": "stdout",
     "output_type": "stream",
     "text": [
      "Cross val score mean: 0.846516393442623\n",
      "Standart deviation of cross validation: 0.0132399181579302\n"
     ]
    },
    {
     "name": "stderr",
     "output_type": "stream",
     "text": [
      "[Parallel(n_jobs=-1)]: Done   4 out of   4 | elapsed:    7.1s finished\n"
     ]
    }
   ],
   "source": [
    "from sklearn.model_selection import cross_val_score\n",
    "accuracies = cross_val_score(estimator=model_LR, X= X_train_scaled, y=y_train, cv=4, n_jobs=-1, verbose=2)\n",
    "mean = accuracies.mean()\n",
    "cv_mean_list.append(mean)\n",
    "print(\"Cross val score mean:\", mean)\n",
    "print(\"Standart deviation of cross validation:\", accuracies.std())"
   ]
  },
  {
   "cell_type": "code",
   "execution_count": 52,
   "id": "3891eb0c-aaa3-4040-80ea-05ed7f799e92",
   "metadata": {
    "colab": {
     "base_uri": "https://localhost:8080/"
    },
    "executionInfo": {
     "elapsed": 14,
     "status": "ok",
     "timestamp": 1736926721919,
     "user": {
      "displayName": "Shehla Kerimova",
      "userId": "15650581135197908661"
     },
     "user_tz": 480
    },
    "id": "3891eb0c-aaa3-4040-80ea-05ed7f799e92",
    "outputId": "3ac1ba3f-f60b-45e0-ccb8-12c011717acb"
   },
   "outputs": [
    {
     "data": {
      "text/plain": [
       "array([0.83606557, 0.85      , 0.83333333, 0.86666667])"
      ]
     },
     "execution_count": 52,
     "metadata": {},
     "output_type": "execute_result"
    }
   ],
   "source": [
    "accuracies"
   ]
  },
  {
   "cell_type": "code",
   "execution_count": 55,
   "id": "27847bea-35f5-4c9f-a5b4-866768a25846",
   "metadata": {
    "colab": {
     "base_uri": "https://localhost:8080/",
     "height": 178
    },
    "executionInfo": {
     "elapsed": 12,
     "status": "ok",
     "timestamp": 1736926721919,
     "user": {
      "displayName": "Shehla Kerimova",
      "userId": "15650581135197908661"
     },
     "user_tz": 480
    },
    "id": "27847bea-35f5-4c9f-a5b4-866768a25846",
    "outputId": "9cffe616-00c2-495f-b1a0-7e7dc86d0a07"
   },
   "outputs": [
    {
     "data": {
      "text/plain": [
       "target\n",
       "1    164\n",
       "0    138\n",
       "Name: count, dtype: int64"
      ]
     },
     "execution_count": 55,
     "metadata": {},
     "output_type": "execute_result"
    }
   ],
   "source": [
    "df[\"target\"].value_counts()"
   ]
  },
  {
   "cell_type": "code",
   "execution_count": 57,
   "id": "64ca0fb0-a280-41f7-80bb-d3e6d580ea56",
   "metadata": {
    "executionInfo": {
     "elapsed": 10,
     "status": "ok",
     "timestamp": 1736926721919,
     "user": {
      "displayName": "Shehla Kerimova",
      "userId": "15650581135197908661"
     },
     "user_tz": 480
    },
    "id": "64ca0fb0-a280-41f7-80bb-d3e6d580ea56"
   },
   "outputs": [],
   "source": [
    "#KNN\n",
    "from sklearn.neighbors import KNeighborsClassifier\n",
    "model = KNeighborsClassifier(n_neighbors=7, n_jobs=-1, metric = 'euclidean')\n",
    "model_KNN = model.fit(X_train_scaled, y_train)\n",
    "y_pred_KNN = model_KNN.predict(X_test_scaled)"
   ]
  },
  {
   "cell_type": "code",
   "execution_count": 59,
   "id": "8abe18f9-44e7-4c3f-a3e0-7fec70ea7a9d",
   "metadata": {
    "colab": {
     "base_uri": "https://localhost:8080/"
    },
    "executionInfo": {
     "elapsed": 1182,
     "status": "ok",
     "timestamp": 1736926723091,
     "user": {
      "displayName": "Shehla Kerimova",
      "userId": "15650581135197908661"
     },
     "user_tz": 480
    },
    "id": "8abe18f9-44e7-4c3f-a3e0-7fec70ea7a9d",
    "outputId": "220c1104-d4de-40bd-ad4e-0fc250ef753b"
   },
   "outputs": [
    {
     "name": "stdout",
     "output_type": "stream",
     "text": [
      "Confisuion matrix KNN:\n",
      " [[23  5]\n",
      " [ 4 29]]\n",
      "\n",
      "Accuracy score: 0.8524590163934426 \n",
      "Precision score: 0.8529411764705882 \n",
      "Recall score: 0.8787878787878788 \n",
      "F1 score: 0.8656716417910447\n"
     ]
    }
   ],
   "source": [
    "cm_KNN = confusion_matrix(y_pred=y_pred_KNN, y_true = y_test)\n",
    "print(\"Confisuion matrix KNN:\\n\", cm_KNN)\n",
    "\n",
    "accuracy_KNN = accuracy_score(y_test, y_pred_KNN)\n",
    "precision_KNN = precision_score(y_test, y_pred_KNN)\n",
    "recall_KNN = recall_score(y_test, y_pred_KNN)\n",
    "f1_score_KNN = f1_score(y_test, y_pred_KNN)\n",
    "\n",
    "accuracy_list.append(accuracy_KNN)\n",
    "precision_list.append(precision_KNN)\n",
    "recall_list.append(recall_KNN)\n",
    "f1_score_list.append(f1_score_KNN)\n",
    "\n",
    "print(\"\\nAccuracy score:\", accuracy_KNN,\n",
    "      \"\\nPrecision score:\", precision_KNN,\n",
    "      \"\\nRecall score:\", recall_KNN,\n",
    "      \"\\nF1 score:\",f1_score_KNN)"
   ]
  },
  {
   "cell_type": "code",
   "execution_count": 61,
   "id": "8d86d2a7-d940-4c44-83fc-f40712d81828",
   "metadata": {
    "colab": {
     "base_uri": "https://localhost:8080/"
    },
    "executionInfo": {
     "elapsed": 31,
     "status": "ok",
     "timestamp": 1736926723091,
     "user": {
      "displayName": "Shehla Kerimova",
      "userId": "15650581135197908661"
     },
     "user_tz": 480
    },
    "id": "8d86d2a7-d940-4c44-83fc-f40712d81828",
    "outputId": "a863bd74-bb02-493c-910d-ba4a7006df7c"
   },
   "outputs": [
    {
     "name": "stderr",
     "output_type": "stream",
     "text": [
      "[Parallel(n_jobs=-1)]: Using backend LokyBackend with 4 concurrent workers.\n"
     ]
    },
    {
     "name": "stdout",
     "output_type": "stream",
     "text": [
      " Mean cross validation: 0.8214480874316938\n",
      " Standart dev 0.019153473174679535\n"
     ]
    },
    {
     "name": "stderr",
     "output_type": "stream",
     "text": [
      "[Parallel(n_jobs=-1)]: Done   4 out of   4 | elapsed:    0.8s finished\n"
     ]
    }
   ],
   "source": [
    "accuracies = cross_val_score(estimator=model_KNN, X=X_train_scaled, y=y_train, cv=4, n_jobs=-1, verbose=2)\n",
    "mean= accuracies.mean()\n",
    "cv_mean_list.append(mean)\n",
    "print(\" Mean cross validation:\", mean)\n",
    "print(\" Standart dev\", accuracies.std())"
   ]
  },
  {
   "cell_type": "code",
   "execution_count": 63,
   "id": "113907fb-f0d3-4eea-9fc9-998151398890",
   "metadata": {
    "colab": {
     "base_uri": "https://localhost:8080/"
    },
    "executionInfo": {
     "elapsed": 28,
     "status": "ok",
     "timestamp": 1736926723091,
     "user": {
      "displayName": "Shehla Kerimova",
      "userId": "15650581135197908661"
     },
     "user_tz": 480
    },
    "id": "113907fb-f0d3-4eea-9fc9-998151398890",
    "outputId": "e47219f3-58c9-4dfc-8062-e0fd52f3aa1c"
   },
   "outputs": [
    {
     "data": {
      "text/plain": [
       "array([0.85245902, 0.81666667, 0.81666667, 0.8       ])"
      ]
     },
     "execution_count": 63,
     "metadata": {},
     "output_type": "execute_result"
    }
   ],
   "source": [
    "accuracies"
   ]
  },
  {
   "cell_type": "code",
   "execution_count": 65,
   "id": "845724bb-3829-4fb4-83ec-f4deb6a5addf",
   "metadata": {
    "executionInfo": {
     "elapsed": 26,
     "status": "ok",
     "timestamp": 1736926723091,
     "user": {
      "displayName": "Shehla Kerimova",
      "userId": "15650581135197908661"
     },
     "user_tz": 480
    },
    "id": "845724bb-3829-4fb4-83ec-f4deb6a5addf"
   },
   "outputs": [],
   "source": [
    "#df.sort_values(by=['accuracy', 'precision', 'recall', 'f1_score'], ascending=False).iloc[[0]]"
   ]
  },
  {
   "cell_type": "code",
   "execution_count": 67,
   "id": "1567d863-6e1d-4e15-b84c-72baf2b427d2",
   "metadata": {
    "colab": {
     "base_uri": "https://localhost:8080/"
    },
    "executionInfo": {
     "elapsed": 25,
     "status": "ok",
     "timestamp": 1736926723091,
     "user": {
      "displayName": "Shehla Kerimova",
      "userId": "15650581135197908661"
     },
     "user_tz": 480
    },
    "id": "1567d863-6e1d-4e15-b84c-72baf2b427d2",
    "outputId": "e812bce6-bda5-4271-ed6a-fb5f4c15c767"
   },
   "outputs": [
    {
     "name": "stdout",
     "output_type": "stream",
     "text": [
      "['Logistic Regression', 'KNN']\n"
     ]
    }
   ],
   "source": [
    "print(models_list)"
   ]
  },
  {
   "cell_type": "code",
   "execution_count": 69,
   "id": "e46e4e6a-812d-424f-bcc5-ef98a7a182a1",
   "metadata": {
    "colab": {
     "base_uri": "https://localhost:8080/"
    },
    "executionInfo": {
     "elapsed": 23,
     "status": "ok",
     "timestamp": 1736926723092,
     "user": {
      "displayName": "Shehla Kerimova",
      "userId": "15650581135197908661"
     },
     "user_tz": 480
    },
    "id": "e46e4e6a-812d-424f-bcc5-ef98a7a182a1",
    "outputId": "b2f4711f-27a3-4a21-fca9-4cc0ba44a143"
   },
   "outputs": [
    {
     "name": "stdout",
     "output_type": "stream",
     "text": [
      "[0.8524590163934426, 0.8524590163934426]\n"
     ]
    }
   ],
   "source": [
    "print(accuracy_list)"
   ]
  },
  {
   "cell_type": "code",
   "execution_count": 71,
   "id": "28400933-c929-471d-a3d0-fe5710ae4150",
   "metadata": {
    "colab": {
     "base_uri": "https://localhost:8080/"
    },
    "executionInfo": {
     "elapsed": 21,
     "status": "ok",
     "timestamp": 1736926723092,
     "user": {
      "displayName": "Shehla Kerimova",
      "userId": "15650581135197908661"
     },
     "user_tz": 480
    },
    "id": "28400933-c929-471d-a3d0-fe5710ae4150",
    "outputId": "6105e514-2bed-452f-c145-65cdb2e87e7f"
   },
   "outputs": [
    {
     "name": "stdout",
     "output_type": "stream",
     "text": [
      "[0.9, 0.8529411764705882]\n"
     ]
    }
   ],
   "source": [
    "print(precision_list)"
   ]
  },
  {
   "cell_type": "code",
   "execution_count": 73,
   "id": "0c7b95e7-a014-4148-a68b-b81a6f595d72",
   "metadata": {
    "colab": {
     "base_uri": "https://localhost:8080/"
    },
    "executionInfo": {
     "elapsed": 19,
     "status": "ok",
     "timestamp": 1736926723092,
     "user": {
      "displayName": "Shehla Kerimova",
      "userId": "15650581135197908661"
     },
     "user_tz": 480
    },
    "id": "0c7b95e7-a014-4148-a68b-b81a6f595d72",
    "outputId": "def76b74-7292-4a15-f0bb-017cf0638ef9"
   },
   "outputs": [
    {
     "name": "stdout",
     "output_type": "stream",
     "text": [
      "[0.8181818181818182, 0.8787878787878788]\n"
     ]
    }
   ],
   "source": [
    "print(recall_list)"
   ]
  },
  {
   "cell_type": "code",
   "execution_count": 75,
   "id": "c8c2fcb6-cd7b-4c4f-9dd6-101dca9ca5dc",
   "metadata": {
    "colab": {
     "base_uri": "https://localhost:8080/"
    },
    "executionInfo": {
     "elapsed": 17,
     "status": "ok",
     "timestamp": 1736926723092,
     "user": {
      "displayName": "Shehla Kerimova",
      "userId": "15650581135197908661"
     },
     "user_tz": 480
    },
    "id": "c8c2fcb6-cd7b-4c4f-9dd6-101dca9ca5dc",
    "outputId": "4dccb9c2-bc0c-400c-f247-f335e0c676b1"
   },
   "outputs": [
    {
     "name": "stdout",
     "output_type": "stream",
     "text": [
      "[0.8571428571428571, 0.8656716417910447]\n"
     ]
    }
   ],
   "source": [
    "print(f1_score_list)"
   ]
  },
  {
   "cell_type": "code",
   "execution_count": 77,
   "id": "1b3086bd-2650-4e9d-8285-409f7b919dbb",
   "metadata": {
    "colab": {
     "base_uri": "https://localhost:8080/"
    },
    "executionInfo": {
     "elapsed": 11,
     "status": "ok",
     "timestamp": 1736926723092,
     "user": {
      "displayName": "Shehla Kerimova",
      "userId": "15650581135197908661"
     },
     "user_tz": 480
    },
    "id": "1b3086bd-2650-4e9d-8285-409f7b919dbb",
    "outputId": "373511bf-6a7e-4dd2-eac8-dbaa06ac630e"
   },
   "outputs": [
    {
     "name": "stdout",
     "output_type": "stream",
     "text": [
      "[0.846516393442623, 0.8214480874316938]\n"
     ]
    }
   ],
   "source": [
    "print(cv_mean_list)"
   ]
  },
  {
   "cell_type": "code",
   "execution_count": 79,
   "id": "4c20b499-cdea-48c3-aa57-a27c415fe846",
   "metadata": {
    "colab": {
     "base_uri": "https://localhost:8080/",
     "height": 125
    },
    "executionInfo": {
     "elapsed": 9,
     "status": "ok",
     "timestamp": 1736926723092,
     "user": {
      "displayName": "Shehla Kerimova",
      "userId": "15650581135197908661"
     },
     "user_tz": 480
    },
    "id": "4c20b499-cdea-48c3-aa57-a27c415fe846",
    "outputId": "bfd4a6eb-1eec-4080-83d7-9fe1d7aeaaa6"
   },
   "outputs": [
    {
     "data": {
      "text/html": [
       "<div>\n",
       "<style scoped>\n",
       "    .dataframe tbody tr th:only-of-type {\n",
       "        vertical-align: middle;\n",
       "    }\n",
       "\n",
       "    .dataframe tbody tr th {\n",
       "        vertical-align: top;\n",
       "    }\n",
       "\n",
       "    .dataframe thead th {\n",
       "        text-align: right;\n",
       "    }\n",
       "</style>\n",
       "<table border=\"1\" class=\"dataframe\">\n",
       "  <thead>\n",
       "    <tr style=\"text-align: right;\">\n",
       "      <th></th>\n",
       "      <th>Model</th>\n",
       "      <th>Accuracy</th>\n",
       "      <th>Precision</th>\n",
       "      <th>Recall</th>\n",
       "      <th>F1_score</th>\n",
       "      <th>CV mean</th>\n",
       "    </tr>\n",
       "  </thead>\n",
       "  <tbody>\n",
       "    <tr>\n",
       "      <th>0</th>\n",
       "      <td>Logistic Regression</td>\n",
       "      <td>0.852459</td>\n",
       "      <td>0.900000</td>\n",
       "      <td>0.818182</td>\n",
       "      <td>0.857143</td>\n",
       "      <td>0.846516</td>\n",
       "    </tr>\n",
       "    <tr>\n",
       "      <th>1</th>\n",
       "      <td>KNN</td>\n",
       "      <td>0.852459</td>\n",
       "      <td>0.852941</td>\n",
       "      <td>0.878788</td>\n",
       "      <td>0.865672</td>\n",
       "      <td>0.821448</td>\n",
       "    </tr>\n",
       "  </tbody>\n",
       "</table>\n",
       "</div>"
      ],
      "text/plain": [
       "                 Model  Accuracy  Precision    Recall  F1_score   CV mean\n",
       "0  Logistic Regression  0.852459   0.900000  0.818182  0.857143  0.846516\n",
       "1                  KNN  0.852459   0.852941  0.878788  0.865672  0.821448"
      ]
     },
     "execution_count": 79,
     "metadata": {},
     "output_type": "execute_result"
    }
   ],
   "source": [
    "data = pd.DataFrame ( {\n",
    "    'Model' : models_list,\n",
    "    'Accuracy' : accuracy_list,\n",
    "    'Precision': precision_list,\n",
    "    ' Recall' : recall_list,\n",
    "     'F1_score': f1_score_list,\n",
    "     'CV mean' : cv_mean_list })\n",
    "data"
   ]
  },
  {
   "cell_type": "code",
   "execution_count": null,
   "id": "77b65646-7a4b-4afc-902a-9c93e6a824c0",
   "metadata": {},
   "outputs": [],
   "source": []
  }
 ],
 "metadata": {
  "colab": {
   "provenance": []
  },
  "kernelspec": {
   "display_name": "Python 3 (ipykernel)",
   "language": "python",
   "name": "python3"
  },
  "language_info": {
   "codemirror_mode": {
    "name": "ipython",
    "version": 3
   },
   "file_extension": ".py",
   "mimetype": "text/x-python",
   "name": "python",
   "nbconvert_exporter": "python",
   "pygments_lexer": "ipython3",
   "version": "3.12.7"
  }
 },
 "nbformat": 4,
 "nbformat_minor": 5
}
